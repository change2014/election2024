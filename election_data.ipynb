{
 "cells": [
  {
   "cell_type": "code",
   "execution_count": 1,
   "id": "181a42cb",
   "metadata": {},
   "outputs": [],
   "source": [
    "# url = \"\""
   ]
  },
  {
   "cell_type": "code",
   "execution_count": 4,
   "id": "22ae9668",
   "metadata": {},
   "outputs": [],
   "source": [
    "import requests\n",
    "from bs4 import BeautifulSoup\n",
    "import json\n",
    "from lxml import html\n",
    "import time\n",
    "import pandas as pd"
   ]
  },
  {
   "cell_type": "code",
   "execution_count": 31,
   "id": "2879e2b9",
   "metadata": {},
   "outputs": [],
   "source": [
    "NOT_FOUND = 404\n",
    "states = [\"U0\" + str(u) for u in range(1, 8)] + [\"S0\" + str(s) if s < 10 else \"S\" + str(s) for s in range(1, 30)]\n",
    "\n",
    "# base_url = \"http://results.eci.gov.in/pc/en/constituencywise/ConstituencywiseS2910.htm?ac=10\"\n",
    "\n",
    "base_url = \"http://results.eci.gov.in/PcResultGenJune2024/Constituencywise\"\n",
    "\n",
    "results = list()"
   ]
  },
  {
   "cell_type": "code",
   "execution_count": 6,
   "id": "f3c32488",
   "metadata": {},
   "outputs": [],
   "source": [
    "response = requests.get(\"https://results.eci.gov.in/PcResultGenJune2024/ConstituencywiseS071.htm\")"
   ]
  },
  {
   "cell_type": "code",
   "execution_count": 7,
   "id": "d3da3f84",
   "metadata": {},
   "outputs": [],
   "source": [
    "url = base_url + states[0] + str(1) + \".htm?ac=\" + str(1)"
   ]
  },
  {
   "cell_type": "code",
   "execution_count": 8,
   "id": "d12a99bd",
   "metadata": {},
   "outputs": [],
   "source": [
    "response = requests.get(url)"
   ]
  },
  {
   "cell_type": "code",
   "execution_count": 9,
   "id": "7c430de9",
   "metadata": {},
   "outputs": [],
   "source": [
    "response_text = response.text\n",
    "\n",
    "soup = BeautifulSoup(response_text, 'lxml')"
   ]
  },
  {
   "cell_type": "code",
   "execution_count": 10,
   "id": "4adcc33a",
   "metadata": {},
   "outputs": [],
   "source": [
    "tbodies = list(soup.find_all(\"tbody\"))"
   ]
  },
  {
   "cell_type": "code",
   "execution_count": 11,
   "id": "9d5dfe23",
   "metadata": {},
   "outputs": [],
   "source": [
    "tbody = tbodies[0]"
   ]
  },
  {
   "cell_type": "code",
   "execution_count": 1,
   "id": "f0f657af",
   "metadata": {},
   "outputs": [],
   "source": [
    "#tbody"
   ]
  },
  {
   "cell_type": "code",
   "execution_count": null,
   "id": "147ced22",
   "metadata": {},
   "outputs": [],
   "source": []
  },
  {
   "cell_type": "code",
   "execution_count": null,
   "id": "db4900c5",
   "metadata": {},
   "outputs": [],
   "source": []
  },
  {
   "cell_type": "code",
   "execution_count": 68,
   "id": "4037dcd4",
   "metadata": {},
   "outputs": [
    {
     "data": {
      "text/plain": [
       "'http://results.eci.gov.in/PcResultGenJune2024/ConstituencywiseU011.htm?ac=1'"
      ]
     },
     "execution_count": 68,
     "metadata": {},
     "output_type": "execute_result"
    }
   ],
   "source": [
    "url"
   ]
  },
  {
   "cell_type": "code",
   "execution_count": null,
   "id": "8301ddf4",
   "metadata": {},
   "outputs": [],
   "source": []
  },
  {
   "cell_type": "code",
   "execution_count": 14,
   "id": "a28db8a1",
   "metadata": {},
   "outputs": [],
   "source": [
    "response_text = response.text\n",
    "\n",
    "soup = BeautifulSoup(response_text, 'lxml')"
   ]
  },
  {
   "cell_type": "code",
   "execution_count": null,
   "id": "f29c0b22",
   "metadata": {},
   "outputs": [],
   "source": []
  },
  {
   "cell_type": "code",
   "execution_count": 15,
   "id": "b83c4686",
   "metadata": {},
   "outputs": [],
   "source": [
    "tbodies = list(soup.find_all(\"h2\"))\n"
   ]
  },
  {
   "cell_type": "code",
   "execution_count": 16,
   "id": "7ed86d1a",
   "metadata": {},
   "outputs": [
    {
     "data": {
      "text/plain": [
       "[<h2>Parliamentary  Constituency <span> 1 - Andaman &amp; Nicobar Islands<strong> (Andaman &amp; Nicobar Islands)</strong></span> </h2>]"
      ]
     },
     "execution_count": 16,
     "metadata": {},
     "output_type": "execute_result"
    }
   ],
   "source": [
    "tbodies"
   ]
  },
  {
   "cell_type": "code",
   "execution_count": 33,
   "id": "73140587",
   "metadata": {},
   "outputs": [],
   "source": [
    "xx = tbodies[0]"
   ]
  },
  {
   "cell_type": "code",
   "execution_count": 41,
   "id": "eda35779",
   "metadata": {},
   "outputs": [
    {
     "data": {
      "text/plain": [
       "'1 - ambala (haryana)'"
      ]
     },
     "execution_count": 41,
     "metadata": {},
     "output_type": "execute_result"
    }
   ],
   "source": [
    "xx.find_all(\"span\")[0].text.strip().lower()"
   ]
  },
  {
   "cell_type": "code",
   "execution_count": 23,
   "id": "06f7318c",
   "metadata": {},
   "outputs": [],
   "source": [
    "tbodies = list(soup.find_all(\"tfoot\"))"
   ]
  },
  {
   "cell_type": "code",
   "execution_count": null,
   "id": "3e9e187e",
   "metadata": {},
   "outputs": [],
   "source": []
  },
  {
   "cell_type": "code",
   "execution_count": 30,
   "id": "60a80e3c",
   "metadata": {},
   "outputs": [
    {
     "data": {
      "text/plain": [
       "'201992'"
      ]
     },
     "execution_count": 30,
     "metadata": {},
     "output_type": "execute_result"
    }
   ],
   "source": [
    "tbodies[0].find_all(\"tr\")[0].find_all(\"th\")[3].text.strip().lower()"
   ]
  },
  {
   "cell_type": "code",
   "execution_count": 17,
   "id": "84b53ae0",
   "metadata": {},
   "outputs": [
    {
     "ename": "IndexError",
     "evalue": "list index out of range",
     "output_type": "error",
     "traceback": [
      "\u001b[0;31m---------------------------------------------------------------------------\u001b[0m",
      "\u001b[0;31mIndexError\u001b[0m                                Traceback (most recent call last)",
      "Cell \u001b[0;32mIn[17], line 1\u001b[0m\n\u001b[0;32m----> 1\u001b[0m \u001b[43mtbodies\u001b[49m\u001b[43m[\u001b[49m\u001b[38;5;241;43m0\u001b[39;49m\u001b[43m]\u001b[49m\u001b[38;5;241;43m.\u001b[39;49m\u001b[43mfind_all\u001b[49m\u001b[43m(\u001b[49m\u001b[38;5;124;43m\"\u001b[39;49m\u001b[38;5;124;43mtr\u001b[39;49m\u001b[38;5;124;43m\"\u001b[39;49m\u001b[43m)\u001b[49m\u001b[43m[\u001b[49m\u001b[38;5;241;43m1\u001b[39;49m\u001b[43m]\u001b[49m\u001b[38;5;241m.\u001b[39mfind_all(\u001b[38;5;124m\"\u001b[39m\u001b[38;5;124mth\u001b[39m\u001b[38;5;124m\"\u001b[39m)[\u001b[38;5;241m3\u001b[39m]\u001b[38;5;241m.\u001b[39mtext\u001b[38;5;241m.\u001b[39mstrip()\u001b[38;5;241m.\u001b[39mlower()\n",
      "\u001b[0;31mIndexError\u001b[0m: list index out of range"
     ]
    }
   ],
   "source": [
    "tbodies[0].find_all(\"tr\")[0].find_all(\"th\")[3].text.strip().lower()"
   ]
  },
  {
   "cell_type": "code",
   "execution_count": null,
   "id": "150495e3",
   "metadata": {},
   "outputs": [],
   "source": []
  },
  {
   "cell_type": "code",
   "execution_count": null,
   "id": "45350b9c",
   "metadata": {},
   "outputs": [],
   "source": []
  },
  {
   "cell_type": "code",
   "execution_count": 15,
   "id": "6a9bdf4f",
   "metadata": {},
   "outputs": [],
   "source": [
    "tbody = tbodies[0]"
   ]
  },
  {
   "cell_type": "code",
   "execution_count": 16,
   "id": "b12355f8",
   "metadata": {},
   "outputs": [],
   "source": [
    "trs = list(tbody.find_all('tr'))"
   ]
  },
  {
   "cell_type": "code",
   "execution_count": 17,
   "id": "37bdaa72",
   "metadata": {},
   "outputs": [
    {
     "data": {
      "text/plain": [
       "[<tr><td>1</td><td align=\"left\">VARUN CHAUDHRY</td><td align=\"left\">Indian National Congress</td><td align=\"right\">662592</td><td align=\"right\">1065</td><td align=\"right\">663657</td><td align=\"right\">49.28</td></tr>,\n",
       " <tr><td>2</td><td align=\"left\">BANTO KATARIA</td><td align=\"left\">Bharatiya Janata Party</td><td align=\"right\">613786</td><td align=\"right\">835</td><td align=\"right\">614621</td><td align=\"right\">45.64</td></tr>,\n",
       " <tr><td>3</td><td align=\"left\">PAWAN RANDHAWA</td><td align=\"left\">Bahujan Samaj Party</td><td align=\"right\">23535</td><td align=\"right\">48</td><td align=\"right\">23583</td><td align=\"right\">1.75</td></tr>,\n",
       " <tr><td>4</td><td align=\"left\">GURPREET SINGH</td><td align=\"left\">Indian National Lok Dal</td><td align=\"right\">8902</td><td align=\"right\">84</td><td align=\"right\">8986</td><td align=\"right\">0.67</td></tr>,\n",
       " <tr><td>5</td><td align=\"left\">KAMAL KUMAR BARARA</td><td align=\"left\">Aazad Samaj Party (Kanshi Ram)</td><td align=\"right\">8741</td><td align=\"right\">13</td><td align=\"right\">8754</td><td align=\"right\">0.65</td></tr>,\n",
       " <tr><td>6</td><td align=\"left\">KIRAN PUNIA</td><td align=\"left\">Jannayak Janta Party</td><td align=\"right\">6055</td><td align=\"right\">37</td><td align=\"right\">6092</td><td align=\"right\">0.45</td></tr>,\n",
       " <tr><td>7</td><td align=\"left\">RAKESH KUMAR</td><td align=\"left\">Haryana Jansena Party</td><td align=\"right\">3110</td><td align=\"right\">1</td><td align=\"right\">3111</td><td align=\"right\">0.23</td></tr>,\n",
       " <tr><td>8</td><td align=\"left\">BALJEET SINGH</td><td align=\"left\">Bharatheeya Jawan Kisan Party</td><td align=\"right\">2459</td><td align=\"right\">43</td><td align=\"right\">2502</td><td align=\"right\">0.19</td></tr>,\n",
       " <tr><td>9</td><td align=\"left\">MEHAR SINGH CHALIA</td><td align=\"left\">Ekam Sanatan Bharat Dal</td><td align=\"right\">2383</td><td align=\"right\">14</td><td align=\"right\">2397</td><td align=\"right\">0.18</td></tr>,\n",
       " <tr><td>10</td><td align=\"left\">GULAB SINGH NARWAL</td><td align=\"left\">Peoples Party of India (Democratic)</td><td align=\"right\">1683</td><td align=\"right\">7</td><td align=\"right\">1690</td><td align=\"right\">0.13</td></tr>,\n",
       " <tr><td>11</td><td align=\"left\">SURAJ KUMAR</td><td align=\"left\">Bahujan Mukti Party</td><td align=\"right\">1501</td><td align=\"right\">5</td><td align=\"right\">1506</td><td align=\"right\">0.11</td></tr>,\n",
       " <tr><td>12</td><td align=\"left\">MOHAR SINGH STATION MASTER (RETD.)</td><td align=\"left\">Independent</td><td align=\"right\">1257</td><td align=\"right\">6</td><td align=\"right\">1263</td><td align=\"right\">0.09</td></tr>,\n",
       " <tr><td>13</td><td align=\"left\">BETA MAM CHAND RATTUWALA</td><td align=\"left\">Bharatiya Yuva Jan Ekta Party</td><td align=\"right\">1248</td><td align=\"right\">3</td><td align=\"right\">1251</td><td align=\"right\">0.09</td></tr>,\n",
       " <tr><td>14</td><td align=\"left\">DR. NITESH CHOPRA (HONEY)</td><td align=\"left\">Bhartiya Shakti Chetna Party</td><td align=\"right\">854</td><td align=\"right\">3</td><td align=\"right\">857</td><td align=\"right\">0.06</td></tr>,\n",
       " <tr><td>15</td><td align=\"left\">NOTA</td><td align=\"left\">None of the Above</td><td align=\"right\">6427</td><td align=\"right\">25</td><td align=\"right\">6452</td><td align=\"right\">0.48</td></tr>]"
      ]
     },
     "execution_count": 17,
     "metadata": {},
     "output_type": "execute_result"
    }
   ],
   "source": [
    "trs"
   ]
  },
  {
   "cell_type": "code",
   "execution_count": 18,
   "id": "28f5a3c2",
   "metadata": {},
   "outputs": [],
   "source": [
    "ind = 0 "
   ]
  },
  {
   "cell_type": "code",
   "execution_count": 24,
   "id": "5f5c3408",
   "metadata": {},
   "outputs": [],
   "source": [
    "tr = trs[1]"
   ]
  },
  {
   "cell_type": "code",
   "execution_count": 25,
   "id": "ad0d4232",
   "metadata": {},
   "outputs": [
    {
     "data": {
      "text/plain": [
       "<tr><td>2</td><td align=\"left\">BANTO KATARIA</td><td align=\"left\">Bharatiya Janata Party</td><td align=\"right\">613786</td><td align=\"right\">835</td><td align=\"right\">614621</td><td align=\"right\">45.64</td></tr>"
      ]
     },
     "execution_count": 25,
     "metadata": {},
     "output_type": "execute_result"
    }
   ],
   "source": [
    "tr"
   ]
  },
  {
   "cell_type": "code",
   "execution_count": 22,
   "id": "de54c687",
   "metadata": {},
   "outputs": [],
   "source": [
    "tds = list(tr.find_all('td'))"
   ]
  },
  {
   "cell_type": "code",
   "execution_count": 26,
   "id": "e692d748",
   "metadata": {},
   "outputs": [
    {
     "data": {
      "text/plain": [
       "'indian national congress'"
      ]
     },
     "execution_count": 26,
     "metadata": {},
     "output_type": "execute_result"
    }
   ],
   "source": [
    "tds[2].text.strip().lower()"
   ]
  },
  {
   "cell_type": "code",
   "execution_count": 58,
   "id": "6ed5a887",
   "metadata": {},
   "outputs": [
    {
     "ename": "NameError",
     "evalue": "name 'pd' is not defined",
     "output_type": "error",
     "traceback": [
      "\u001b[0;31m---------------------------------------------------------------------------\u001b[0m",
      "\u001b[0;31mNameError\u001b[0m                                 Traceback (most recent call last)",
      "Cell \u001b[0;32mIn[58], line 1\u001b[0m\n\u001b[0;32m----> 1\u001b[0m df \u001b[38;5;241m=\u001b[39m \u001b[43mpd\u001b[49m\u001b[38;5;241m.\u001b[39mDataFrame({\u001b[38;5;124m\"\u001b[39m\u001b[38;5;124mConstituency\u001b[39m\u001b[38;5;124m\"\u001b[39m,\u001b[38;5;124m\"\u001b[39m\u001b[38;5;124mCode\u001b[39m\u001b[38;5;124m\"\u001b[39m,\u001b[38;5;124m\"\u001b[39m\u001b[38;5;124mcandidate_name\u001b[39m\u001b[38;5;124m\"\u001b[39m,\u001b[38;5;124m\"\u001b[39m\u001b[38;5;124mparty_name\u001b[39m\u001b[38;5;124m\"\u001b[39m,\u001b[38;5;124m\"\u001b[39m\u001b[38;5;124mevm_votes\u001b[39m\u001b[38;5;124m\"\u001b[39m,\u001b[38;5;124m\"\u001b[39m\u001b[38;5;124mpost_votes\u001b[39m\u001b[38;5;124m\"\u001b[39m,\u001b[38;5;124m\"\u001b[39m\u001b[38;5;124mtotal_votes\u001b[39m\u001b[38;5;124m\"\u001b[39m,\u001b[38;5;124m\"\u001b[39m\u001b[38;5;124mvote_share\u001b[39m\u001b[38;5;124m\"\u001b[39m})\n",
      "\u001b[0;31mNameError\u001b[0m: name 'pd' is not defined"
     ]
    }
   ],
   "source": [
    "df = pd.DataFrame({\"Constituency\",\"Code\",\"candidate_name\",\"party_name\",\"evm_votes\",\"post_votes\",\"total_votes\",\"vote_share\"})\n",
    "\n"
   ]
  },
  {
   "cell_type": "code",
   "execution_count": null,
   "id": "82086827",
   "metadata": {},
   "outputs": [],
   "source": []
  },
  {
   "cell_type": "code",
   "execution_count": null,
   "id": "7ca10f21",
   "metadata": {},
   "outputs": [],
   "source": [
    "for state in states:\n",
    "    \n",
    "    for constituency_code in range(1, 99):\n",
    "        url = base_url + state + str(constituency_code) + \".htm?ac=\" + str(constituency_code)\n",
    "        # print(\"URL\", url)\n",
    "        response = requests.get(url)\n",
    "\n",
    "        # if some state and constituency combination do not exists, 404, continue for next state\n",
    "        if NOT_FOUND == response.status_code:\n",
    "            break\n",
    "\n",
    "        response_text = response.text\n",
    "\n",
    "        soup = BeautifulSoup(response_text, 'lxml')\n",
    "        tbodies = list(soup.find_all(\"tbody\"))\n",
    "        # 11the tbody from top is the table we need to parse\n",
    "        tbody = tbodies[10]\n",
    "        trs = list(tbody.find_all('tr'))\n",
    "\n",
    "        # all data for a constituency seat is stored in this dictionary\n",
    "        seat = dict()\n",
    "        seat[\"candidates\"] = list()\n",
    "        for tr_index, tr in enumerate(trs):\n",
    "\n",
    "            # for rest of the rows, get data\n",
    "            tds = list(tr.find_all('td'))\n",
    "\n",
    "            candidate = dict()\n",
    "\n",
    "            candidate[\"candidate_name\"] = tds[1].text.strip().lower()\n",
    "            candidate[\"party_name\"] = tds[2].text.strip().lower()\n",
    "            candidate[\"evm_votes\"] = int(tds[3].text.strip().lower())\n",
    "  \n",
    "            candidate[\"post_votes\"] = int(tds[4].text.strip().lower())\n",
    "            candidate[\"total_votes\"] = int(tds[5].text.strip().lower())\n",
    "            candidate[\"share\"] = float(tds[6].text.strip().lower())\n",
    "                \n",
    "\n",
    "        seat[\"candidates\"].append(candidate)\n",
    "\n",
    "    # print(json.dumps(seat, indent=2))\n",
    "    results.append(seat)\n",
    "    print(\"Collected data for\", seat[\"state\"], state, seat[\"constituency\"], constituency_code, len(results))\n",
    "    # Do not send too many hits to server. be gentle. wait.\n",
    "    time.sleep(0.5)\n",
    "\n",
    "# write data to file\n",
    "with open(\"election_data.json\", \"a+\") as f:\n",
    "    f.write(json.dumps(results, indent=2))"
   ]
  },
  {
   "cell_type": "code",
   "execution_count": 64,
   "id": "a490ca12",
   "metadata": {},
   "outputs": [],
   "source": [
    "df = pd.DataFrame(columns=[\"state\",\"constituency_code\",\"candidate_name\",\"party_name\",\"evm_votes\",\"post_votes\",\"total_votes\",\"vote_share\"])\n"
   ]
  },
  {
   "cell_type": "code",
   "execution_count": 65,
   "id": "2e866901",
   "metadata": {},
   "outputs": [
    {
     "data": {
      "text/html": [
       "<div>\n",
       "<style scoped>\n",
       "    .dataframe tbody tr th:only-of-type {\n",
       "        vertical-align: middle;\n",
       "    }\n",
       "\n",
       "    .dataframe tbody tr th {\n",
       "        vertical-align: top;\n",
       "    }\n",
       "\n",
       "    .dataframe thead th {\n",
       "        text-align: right;\n",
       "    }\n",
       "</style>\n",
       "<table border=\"1\" class=\"dataframe\">\n",
       "  <thead>\n",
       "    <tr style=\"text-align: right;\">\n",
       "      <th></th>\n",
       "      <th>state</th>\n",
       "      <th>constituency_code</th>\n",
       "      <th>candidate_name</th>\n",
       "      <th>party_name</th>\n",
       "      <th>evm_votes</th>\n",
       "      <th>post_votes</th>\n",
       "      <th>total_votes</th>\n",
       "      <th>vote_share</th>\n",
       "    </tr>\n",
       "  </thead>\n",
       "  <tbody>\n",
       "  </tbody>\n",
       "</table>\n",
       "</div>"
      ],
      "text/plain": [
       "Empty DataFrame\n",
       "Columns: [state, constituency_code, candidate_name, party_name, evm_votes, post_votes, total_votes, vote_share]\n",
       "Index: []"
      ]
     },
     "execution_count": 65,
     "metadata": {},
     "output_type": "execute_result"
    }
   ],
   "source": [
    "df"
   ]
  },
  {
   "cell_type": "code",
   "execution_count": 66,
   "id": "6d370f52",
   "metadata": {},
   "outputs": [
    {
     "name": "stdout",
     "output_type": "stream",
     "text": [
      "Collected data for 1 - andaman & nicobar islands (andaman & nicobar islands)\n",
      "Collected data for 1 - chandigarh (chandigarh)\n",
      "Collected data for 2 - dadar & nagar haveli (dadra & nagar haveli and daman & diu)\n",
      "Collected data for 2 - dadar & nagar haveli (dadra & nagar haveli and daman & diu)\n",
      "Collected data for 7 - south delhi (nct of delhi)\n",
      "Collected data for 1 - lakshadweep (lakshadweep)\n",
      "Collected data for 1 - puducherry (puducherry)\n",
      "Collected data for 25 - chittoor(sc) (andhra pradesh)\n",
      "Collected data for 2 - arunachal east (arunachal pradesh)\n",
      "Collected data for 14 - jorhat (assam)\n",
      "Collected data for 40 - jamui (bihar)\n",
      "Collected data for 2 - south goa (goa)\n",
      "Collected data for 26 - valsad (gujarat)\n",
      "Collected data for 10 - faridabad (haryana)\n",
      "Collected data for 4 - shimla (himachal pradesh)\n",
      "Collected data for 4 - shimla (himachal pradesh)\n",
      "Collected data for 28 - kolar (karnataka)\n",
      "Collected data for 20 - thiruvananthapuram (kerala)\n",
      "Collected data for 29 - betul (madhya pradesh)\n",
      "Collected data for 48 - hatkanangale (maharashtra)\n",
      "Collected data for 2 - outer manipur (manipur)\n",
      "Collected data for 2 - tura (meghalaya)\n",
      "Collected data for 1 - mizoram (mizoram)\n",
      "Collected data for 1 - nagaland (nagaland)\n",
      "Collected data for 21 - koraput (odisha)\n",
      "Collected data for 13 - patiala (punjab)\n",
      "Collected data for 25 - jhalawar-baran (rajasthan)\n",
      "Collected data for 1 - sikkim (sikkim)\n",
      "Collected data for 39 - kanniyakumari (tamil nadu)\n",
      "Collected data for 2 - tripura east (tripura)\n",
      "Collected data for 80 - robertsganj (uttar pradesh)\n",
      "Collected data for 42 - birbhum (west bengal)\n",
      "Collected data for 11 - kanker (chhattisgarh)\n",
      "Collected data for 14 - hazaribagh (jharkhand)\n",
      "Collected data for 5 - haridwar (uttarakhand)\n",
      "Collected data for 17 - khammam  (telangana)\n"
     ]
    }
   ],
   "source": [
    "\n",
    "\n",
    "for state in states:\n",
    "    \n",
    "    for constituency_code in range(1, 99):\n",
    "        \n",
    "        url = base_url + state + str(constituency_code) + \".htm?ac=\" + str(constituency_code)\n",
    "\n",
    "        response = requests.get(url)\n",
    "\n",
    "        # if some state and constituency combination do not exists, 404, continue for next state\n",
    "        if NOT_FOUND == response.status_code:\n",
    "            break\n",
    "\n",
    "        response_text = response.text\n",
    "\n",
    "        soup = BeautifulSoup(response_text, 'lxml')\n",
    "        \n",
    "        title = list(soup.find_all(\"h2\"))\n",
    "        constituency_title = title[0].find_all(\"span\")[0].text.strip().lower()\n",
    "        \n",
    "        tbodies = list(soup.find_all(\"tbody\"))\n",
    "        # 11the tbody from top is the table we need to parse\n",
    "        tbody = tbodies[0]\n",
    "        trs = list(tbody.find_all('tr'))\n",
    "\n",
    "        # all data for a constituency seat is stored in this dictionary\n",
    "\n",
    "        for tr_index, tr in enumerate(trs):\n",
    "\n",
    "            # for rest of the rows, get data\n",
    "            tds = list(tr.find_all('td'))\n",
    "            if(tds[3].text.strip().lower()==\"-\"):\n",
    "                evm_votes = 0 \n",
    "            else:\n",
    "                evm_votes = int(tds[3].text.strip().lower())\n",
    "                \n",
    "            if(tds[4].text.strip().lower()==\"-\"):\n",
    "                post_votes = 0 \n",
    "            else:\n",
    "                post_votes = int(tds[4].text.strip().lower())        \n",
    "           \n",
    "            if(tds[5].text.strip().lower()==\"-\"):\n",
    "                total_votes = 0 \n",
    "            else:\n",
    "                total_votes = int(tds[5].text.strip().lower())\n",
    "                \n",
    "            if(tds[6].text.strip().lower()==\"-\"):\n",
    "                vote_share = 0 \n",
    "            else:\n",
    "                vote_share = float(tds[6].text.strip().lower())        \n",
    "            \n",
    "            df = pd.concat([df,pd.DataFrame({\n",
    "                \"state\":state,\n",
    "                \"constituency_code\":constituency_code,\n",
    "                \"constituency\":constituency_title,\n",
    "                \"candidate_name\":tds[1].text.strip().lower(),\n",
    "                \"party_name\":tds[2].text.strip().lower(),\n",
    "                \"evm_votes\" :evm_votes,\n",
    "                \"post_votes\":post_votes,\n",
    "                \"total_votes\":total_votes,\n",
    "                \"vote_share\":vote_share\n",
    "                \n",
    "                },index=[0])],axis=0)\n",
    "         \n",
    "        ## total votes in a constituency    \n",
    "        tfoot = list(soup.find_all(\"tfoot\"))\n",
    "        \n",
    "        if(tfoot[0].find_all(\"tr\")[0].find_all(\"th\")[3].text.strip().lower()==\"-\"):\n",
    "            evm_votes = 0 \n",
    "        else:\n",
    "            evm_votes = int(tfoot[0].find_all(\"tr\")[0].find_all(\"th\")[3].text.strip().lower())\n",
    "                \n",
    "        if(tfoot[0].find_all(\"tr\")[0].find_all(\"th\")[4].text.strip().lower()==\"-\"):\n",
    "                post_votes = 0 \n",
    "        else:\n",
    "                post_votes = int(tfoot[0].find_all(\"tr\")[0].find_all(\"th\")[4].text.strip().lower())        \n",
    "           \n",
    "        if(tfoot[0].find_all(\"tr\")[0].find_all(\"th\")[5].text.strip().lower()==\"-\"):\n",
    "            total_votes = 0 \n",
    "        else:\n",
    "            total_votes = int(tfoot[0].find_all(\"tr\")[0].find_all(\"th\")[5].text.strip().lower())\n",
    "        \n",
    "        \n",
    "        df = pd.concat([df,pd.DataFrame({\n",
    "             \"state\":state,\n",
    "                \"constituency_code\":constituency_code,\n",
    "                \"constituency\":constituency_title,\n",
    "                \"candidate_name\":\"Total\",\n",
    "                \"party_name\":\"Overall\",\n",
    "                \"evm_votes\" :evm_votes,\n",
    "                \"post_votes\":post_votes,\n",
    "                \"total_votes\":total_votes,\n",
    "                \"vote_share\":100.0\n",
    "                \n",
    "                },index=[0])],axis=0)\n",
    "            \n",
    "    print(\"Collected data for\", constituency_title)\n",
    "    # Do not send too many hits to server. be gentle. wait.\n",
    "    time.sleep(0.5)\n",
    "    "
   ]
  },
  {
   "cell_type": "code",
   "execution_count": 67,
   "id": "5d506bde",
   "metadata": {},
   "outputs": [],
   "source": [
    "df.to_csv(\"/media/shivang/5A8AEAE28AEABA21/Users/shivang/Documents/election_2024.csv\",index=False)"
   ]
  },
  {
   "cell_type": "code",
   "execution_count": 68,
   "id": "2d762d2e",
   "metadata": {},
   "outputs": [
    {
     "data": {
      "text/plain": [
       "537"
      ]
     },
     "execution_count": 68,
     "metadata": {},
     "output_type": "execute_result"
    }
   ],
   "source": [
    "df['constituency'].nunique()"
   ]
  },
  {
   "cell_type": "code",
   "execution_count": null,
   "id": "8ab0c9b0",
   "metadata": {},
   "outputs": [],
   "source": []
  }
 ],
 "metadata": {
  "kernelspec": {
   "display_name": "Python 3 (ipykernel)",
   "language": "python",
   "name": "python3"
  },
  "language_info": {
   "codemirror_mode": {
    "name": "ipython",
    "version": 3
   },
   "file_extension": ".py",
   "mimetype": "text/x-python",
   "name": "python",
   "nbconvert_exporter": "python",
   "pygments_lexer": "ipython3",
   "version": "3.10.9"
  }
 },
 "nbformat": 4,
 "nbformat_minor": 5
}
